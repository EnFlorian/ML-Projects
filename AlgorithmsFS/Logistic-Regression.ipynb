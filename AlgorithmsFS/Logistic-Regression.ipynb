{
 "cells": [
  {
   "cell_type": "markdown",
   "metadata": {},
   "source": [
    "## Logistic Regression Classifier\n",
    "- **Goal:** Classify data points with a logistic function (sigmoid)\n",
    "- **Libraries:** sklearn, numpy\n",
    "- **Dataset:** Breast Cancer \n",
    "- **Metric:** accuracy \n",
    "\n",
    "#### Disclaimer: This implementation isn't optimized in any way, therefore it shouldn't be used for production."
   ]
  },
  {
   "cell_type": "code",
   "execution_count": 36,
   "metadata": {},
   "outputs": [],
   "source": [
    "# Importing libraries\n",
    "import numpy as np\n",
    "from sklearn.model_selection import train_test_split\n",
    "from sklearn.metrics import accuracy_score\n",
    "from sklearn.datasets import load_breast_cancer"
   ]
  },
  {
   "cell_type": "code",
   "execution_count": 37,
   "metadata": {},
   "outputs": [
    {
     "ename": "SyntaxError",
     "evalue": "invalid syntax (<ipython-input-37-f78df51fd385>, line 13)",
     "output_type": "error",
     "traceback": [
      "\u001b[1;36m  File \u001b[1;32m\"<ipython-input-37-f78df51fd385>\"\u001b[1;36m, line \u001b[1;32m13\u001b[0m\n\u001b[1;33m    return = self.sigmoid_function(X)\u001b[0m\n\u001b[1;37m           ^\u001b[0m\n\u001b[1;31mSyntaxError\u001b[0m\u001b[1;31m:\u001b[0m invalid syntax\n"
     ]
    }
   ],
   "source": [
    "class LogisticRegression:\n",
    "   \n",
    "    def fit(self, X, y, learning_rate=0.01, n_iterations=1000):\n",
    "        # Initializing weights randomly \n",
    "        self.weights = np.random.rand(X.shape[1])\n",
    "        for i in range(n_iterations):\n",
    "            # Computing gradient\n",
    "            gradient = self.sigmoid_function(X, y, derivative=True)\n",
    "            # Updating weights with the learning rate and gradient\n",
    "            self.weights -= learning_rate * gradient\n",
    "    \n",
    "    def predict(self, X):\n",
    "        return = self.sigmoid_function(X)\n",
    "\n",
    "    \n",
    "    # helper function\n",
    "    def sigmoid_function(self, X, y=None, derivative=False):\n",
    "        if derivative:\n",
    "            return (self.predict(X) - y).dot(X) / y.shape[0]\n",
    "        else:\n",
    "            return 1 / (1 + np.exp(-(X.dot(self.weights))))\n",
    "\n",
    "        "
   ]
  },
  {
   "cell_type": "markdown",
   "metadata": {},
   "source": [
    "### Loading Data"
   ]
  },
  {
   "cell_type": "code",
   "execution_count": 38,
   "metadata": {},
   "outputs": [],
   "source": [
    "def load_data():\n",
    "    dataset = load_breast_cancer()\n",
    "    X = dataset.data\n",
    "    y = dataset.target\n",
    "    return train_test_split(X, y, test_size=0.33, random_state=42)\n",
    "\n",
    "# Splitting data into trainings and test sets\n",
    "X_train, X_test, y_train, y_test = load_data()"
   ]
  },
  {
   "cell_type": "markdown",
   "metadata": {},
   "source": [
    "### Creating Model"
   ]
  },
  {
   "cell_type": "code",
   "execution_count": 39,
   "metadata": {
    "scrolled": true
   },
   "outputs": [
    {
     "name": "stdout",
     "output_type": "stream",
     "text": [
      "Accuracy of the model: 0.8882978723404256\n"
     ]
    }
   ],
   "source": [
    "lr_clf = LogisticRegression()\n",
    "lr_clf.fit(X_train, y_train, 0.01)\n",
    "y_pred = lr_clf.predict(X_test)\n",
    "\n",
    "print (\"Accuracy of the model:\", np.mean(y_pred == y_test))"
   ]
  },
  {
   "cell_type": "code",
   "execution_count": null,
   "metadata": {},
   "outputs": [],
   "source": []
  }
 ],
 "metadata": {
  "kernelspec": {
   "display_name": "Python 3",
   "language": "python",
   "name": "python3"
  },
  "language_info": {
   "codemirror_mode": {
    "name": "ipython",
    "version": 3
   },
   "file_extension": ".py",
   "mimetype": "text/x-python",
   "name": "python",
   "nbconvert_exporter": "python",
   "pygments_lexer": "ipython3",
   "version": "3.7.3"
  }
 },
 "nbformat": 4,
 "nbformat_minor": 2
}
