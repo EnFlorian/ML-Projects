{
 "cells": [
  {
   "cell_type": "markdown",
   "metadata": {},
   "source": [
    "## KNN Classifier\n",
    "- **Goal:** Classify data points based on their k nearest neighbors\n",
    "- **Libraries:** sklearn, scipy, numpy\n",
    "- **Metric:** accuracy \n",
    "\n",
    "#### Disclaimer: This implementation isn't optimized in any way, therefore it shouldn't be used for production."
   ]
  },
  {
   "cell_type": "code",
   "execution_count": 105,
   "metadata": {},
   "outputs": [],
   "source": [
    "import numpy as np\n",
    "from scipy.spatial.distance import cdist\n",
    "from sklearn import datasets\n",
    "from sklearn.model_selection import train_test_split"
   ]
  },
  {
   "cell_type": "code",
   "execution_count": 106,
   "metadata": {},
   "outputs": [],
   "source": [
    "class KNN:\n",
    "    def __init__(self):\n",
    "        self.X = None\n",
    "        self.y = None\n",
    "        self.accuracy_score = 0\n",
    "        \n",
    "    def fit(self, X, y):\n",
    "        # Fitting the model with the data\n",
    "        self.X = X\n",
    "        self.y = y\n",
    "        \n",
    "    def predict(self, Xt, k):\n",
    "        # Calculating the distance/similarity \n",
    "        distances = cdist(Xt, self.X)\n",
    "        # Sorting the distances\n",
    "        sorted_distances = np.argsort(distances)\n",
    "        # Selecting indicies of the k closest neighbors\n",
    "        k_indicies = sorted_distances[:, :k]\n",
    "        # Selecting the k closest neighbors \n",
    "        y_pred = [np.bincount(self.y[i]).argmax() for i in k_indicies]\n",
    "        # Computing the accuracy score\n",
    "        self.accuracy_score = np.mean(y_pred == y_test)\n",
    "        return y_pred"
   ]
  },
  {
   "cell_type": "markdown",
   "metadata": {},
   "source": [
    "### Loading Data"
   ]
  },
  {
   "cell_type": "code",
   "execution_count": 107,
   "metadata": {},
   "outputs": [],
   "source": [
    "def load_data():\n",
    "    iris = datasets.load_iris()\n",
    "    X = iris.data \n",
    "    y = iris.target\n",
    "    return train_test_split(X, y, test_size=0.33, random_state=42)\n",
    "\n",
    "# Splitting data into trainings and test sets\n",
    "X_train, X_test, y_train, y_test = load_data()"
   ]
  },
  {
   "cell_type": "markdown",
   "metadata": {},
   "source": [
    "### Creating Model "
   ]
  },
  {
   "cell_type": "code",
   "execution_count": 108,
   "metadata": {},
   "outputs": [
    {
     "name": "stdout",
     "output_type": "stream",
     "text": [
      "Accuracy of the model: 0.98\n"
     ]
    }
   ],
   "source": [
    "# Creating the model\n",
    "knn_clf = KNN()\n",
    "# Fitting the model\n",
    "knn_clf.fit(X_train, y_train)\n",
    "# Creating prediction and accuracy score\n",
    "y_pred = knn_clf.predict(X_test, 5)\n",
    "\n",
    "print (\"Accuracy of the model:\", knn_clf.accuracy_score)"
   ]
  }
 ],
 "metadata": {
  "kernelspec": {
   "display_name": "Python 3",
   "language": "python",
   "name": "python3"
  },
  "language_info": {
   "codemirror_mode": {
    "name": "ipython",
    "version": 3
   },
   "file_extension": ".py",
   "mimetype": "text/x-python",
   "name": "python",
   "nbconvert_exporter": "python",
   "pygments_lexer": "ipython3",
   "version": "3.7.3"
  }
 },
 "nbformat": 4,
 "nbformat_minor": 2
}
