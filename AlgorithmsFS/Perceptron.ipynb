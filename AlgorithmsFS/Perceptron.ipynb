{
 "cells": [
  {
   "cell_type": "markdown",
   "metadata": {},
   "source": [
    "## Perceptron\n",
    "- **Goal:** Predict P(y|X) \n",
    "- **Libraries:** sklearn, numpy, math, \n",
    "- **Data:** Digit Dataset\n",
    "- **Metric:** Accuracy\n",
    "\n",
    "#### Disclaimer: This implementation isn't optimized in any way, therefore it shouldn't be used for production."
   ]
  },
  {
   "cell_type": "code",
   "execution_count": 25,
   "metadata": {},
   "outputs": [],
   "source": [
    "import math\n",
    "from sklearn import datasets\n",
    "from sklearn.model_selection import train_test_split\n",
    "import numpy as np"
   ]
  },
  {
   "cell_type": "code",
   "execution_count": 24,
   "metadata": {},
   "outputs": [],
   "source": [
    "class Perceptron:\n",
    "    def __init__(self, epochs=5000, learning_rate=0.01):\n",
    "        self.epochs = epochs\n",
    "        self.learning_rate = learning_rate\n",
    "    \n",
    "    def fit(self, X, y):\n",
    "        n_samples, n_features = np.shape(X)\n",
    "        n_outputs = y.shape[1]\n",
    "        \n",
    "        limit = 1 / math.sqrt(n_features)\n",
    "        self.W = np.random.uniform(-limit, limit, (n_features, n_outputs))\n",
    "        self.w0 = np.zeros((1, n_outputs))\n",
    "        \n",
    "        for i in range(self.epochs):\n",
    "            # Calculate outputs\n",
    "            linear_output = X.dot(self.W) + self.w0\n",
    "            y_pred = self.sigmoid(linear_output)\n",
    "            # Calculate the gradient of the loss with respect to the input\n",
    "            error_gradient = self.loss(y, y_pred, gradient=True) * self.sigmoid(linear_output, gradient=True)\n",
    "            # Calculate the gradient of the loss with respect to the weights\n",
    "            grad_wrt_w = X.T.dot(error_gradient)\n",
    "            grad_wrt_w0 = np.sum(error_gradient, axis=0, keepdims=True)\n",
    "            # Update all weights\n",
    "            self.W  -= self.learning_rate * grad_wrt_w\n",
    "            self.w0 -= self.learning_rate  * grad_wrt_w0\n",
    "        \n",
    "    def predict(self, X):\n",
    "        y_pred = self.sigmoid(X.dot(self.W) + self.w0)\n",
    "        return y_pred\n",
    "    \n",
    "    \n",
    "    # Helper functions\n",
    "    def sigmoid(self, x, gradient=False):\n",
    "        if gradient:\n",
    "            return self.sigmoid(x) * (1 - self.sigmoid(x))\n",
    "        else:\n",
    "            return 1 / (1 + np.exp(-x))\n",
    "        \n",
    "    def loss(self, y, y_pred, gradient=False):\n",
    "        if gradient:\n",
    "            return -(y - y_pred)\n",
    "        else:\n",
    "            return  0.5 * np.power((y - y_pred), 2) \n",
    "    "
   ]
  },
  {
   "cell_type": "code",
   "execution_count": 21,
   "metadata": {},
   "outputs": [],
   "source": [
    "def normalise(X, axis=-1, order=2):\n",
    "    l2_metric = np.atleast_1d(np.linalg.norm(X, order, axis))\n",
    "    l2_metric[l2_metric == 0] = 1\n",
    "    return X / np.expand_dims(l2_metric, axis)\n",
    "\n",
    "def onehot_ecoding(x, columns=None):\n",
    "    if not columns:\n",
    "        columns = np.amax(x) + 1\n",
    "    onehot_encoding = np.zeros((x.shape[0], columns))\n",
    "    onehot_encoding[np.arange(x.shape[0]), x] = 1\n",
    "    return onehot_encoding"
   ]
  },
  {
   "cell_type": "markdown",
   "metadata": {},
   "source": [
    "### Loading Data"
   ]
  },
  {
   "cell_type": "code",
   "execution_count": 22,
   "metadata": {},
   "outputs": [],
   "source": [
    "def load_data():\n",
    "    digits = datasets.load_digits()\n",
    "    X = normalise(digits.data)\n",
    "    y = onehot_ecoding(digits.target)\n",
    "    return train_test_split(X, y, test_size=0.33)\n",
    "\n",
    "# Splitting data into trainings and test sets\n",
    "X_train, X_test, y_train, y_test = load_data()"
   ]
  },
  {
   "cell_type": "markdown",
   "metadata": {},
   "source": [
    "### Creating Model"
   ]
  },
  {
   "cell_type": "code",
   "execution_count": 23,
   "metadata": {},
   "outputs": [
    {
     "name": "stdout",
     "output_type": "stream",
     "text": [
      "Accuracy: 0.9511784511784511\n"
     ]
    }
   ],
   "source": [
    "pt_clf = Perceptron()\n",
    "pt_clf.fit(X_train, y_train)\n",
    "\n",
    "y_pred = np.argmax(pt_clf.predict(X_test), axis=1)\n",
    "y_test = np.argmax(y_test, axis=1)\n",
    "accuracy = np.sum(y_test == y_pred, axis=0) / len(y_test)\n",
    "\n",
    "\n",
    "print (\"Accuracy:\", accuracy)"
   ]
  }
 ],
 "metadata": {
  "kernelspec": {
   "display_name": "Python 3",
   "language": "python",
   "name": "python3"
  },
  "language_info": {
   "codemirror_mode": {
    "name": "ipython",
    "version": 3
   },
   "file_extension": ".py",
   "mimetype": "text/x-python",
   "name": "python",
   "nbconvert_exporter": "python",
   "pygments_lexer": "ipython3",
   "version": "3.7.3"
  }
 },
 "nbformat": 4,
 "nbformat_minor": 2
}
