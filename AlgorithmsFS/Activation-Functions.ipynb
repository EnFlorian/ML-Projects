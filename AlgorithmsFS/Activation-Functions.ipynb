{
 "cells": [
  {
   "cell_type": "markdown",
   "metadata": {},
   "source": [
    "### Activation Functions for ML Algorithms\n",
    "- Function based inplementations, so that it's easier to use them within a selfcontained jupyter notebook or classifier class\n",
    "- For gradient use the boolean \"gradient\" flag\n",
    "\n",
    "#### Disclaimer: This implementation isn't optimized in any way, therefore it shouldn't be used for production."
   ]
  },
  {
   "cell_type": "code",
   "execution_count": 8,
   "metadata": {},
   "outputs": [],
   "source": [
    "import numpy as np"
   ]
  },
  {
   "cell_type": "markdown",
   "metadata": {},
   "source": [
    "### Sigmoid"
   ]
  },
  {
   "cell_type": "code",
   "execution_count": 23,
   "metadata": {},
   "outputs": [],
   "source": [
    "def sigmoid(self, x, gradient=False):\n",
    "    if gradient:\n",
    "        return self.sigmoid(x) * (1 - self.sigmoid(x))\n",
    "    else:\n",
    "        return 1 / (1 + np.exp(-x))"
   ]
  },
  {
   "cell_type": "markdown",
   "metadata": {},
   "source": [
    "### TanH"
   ]
  },
  {
   "cell_type": "code",
   "execution_count": 24,
   "metadata": {},
   "outputs": [],
   "source": [
    "def tanh(self, x, gradient=False):\n",
    "    if gradient:\n",
    "        return 1 - np.power(self.tanh(x), 2)\n",
    "    else:\n",
    "        return 2 / (1 + np.exp(-2*x)) - 1"
   ]
  },
  {
   "cell_type": "markdown",
   "metadata": {},
   "source": [
    "### ReLU"
   ]
  },
  {
   "cell_type": "code",
   "execution_count": 25,
   "metadata": {},
   "outputs": [],
   "source": [
    "def relu(self, x, gradient=False):\n",
    "    if gradient:\n",
    "        return np.where(x >= 0, 1, 0)\n",
    "    else:\n",
    "        return np.where(x >= 0, x, 0)   "
   ]
  },
  {
   "cell_type": "markdown",
   "metadata": {},
   "source": [
    "### LeakyReLU"
   ]
  },
  {
   "cell_type": "code",
   "execution_count": 32,
   "metadata": {},
   "outputs": [],
   "source": [
    "def leaky_relu(self, x, alpha=0.2, gradient=False):\n",
    "    if gradient:\n",
    "        return np.where(x >= 0, 1, self.alpha)\n",
    "    else:\n",
    "        return np.where(x >= 0, x, self.alpha * x)"
   ]
  },
  {
   "cell_type": "markdown",
   "metadata": {},
   "source": [
    "### ELU"
   ]
  },
  {
   "cell_type": "code",
   "execution_count": 33,
   "metadata": {},
   "outputs": [],
   "source": [
    "def elu(self, x, alpha=0.1, gradient=False):\n",
    "    if gradient:\n",
    "        return np.where(x >= 0.0, 1, self.elu(x) + alpha)\n",
    "    else:\n",
    "        return np.where(x >= 0.0, x, alpha * (np.exp(x) - 1))"
   ]
  },
  {
   "cell_type": "markdown",
   "metadata": {},
   "source": [
    "### SELU"
   ]
  },
  {
   "cell_type": "code",
   "execution_count": 36,
   "metadata": {},
   "outputs": [],
   "source": [
    "def selu(self, x, alpha = 1.6732, scale = 1.0507, gradient=False):\n",
    "    if gradient:\n",
    "        return self.scale * np.where(x >= 0.0, 1, self.alpha * np.exp(x))\n",
    "    else:\n",
    "        return self.scale * np.where(x >= 0.0, x, self.alpha*(np.exp(x)-1))"
   ]
  },
  {
   "cell_type": "markdown",
   "metadata": {},
   "source": [
    "### Softmax"
   ]
  },
  {
   "cell_type": "code",
   "execution_count": 37,
   "metadata": {},
   "outputs": [],
   "source": [
    "def softmax(self, x, gradient=False):\n",
    "    if gradient:\n",
    "        p = self.softmax(x)\n",
    "        return p * (1 - p)\n",
    "    else:\n",
    "        e_x = np.exp(x - np.max(x, axis=-1, keepdims=True))\n",
    "        return e_x / np.sum(e_x, axis=-1, keepdims=True)"
   ]
  }
 ],
 "metadata": {
  "kernelspec": {
   "display_name": "Python 3",
   "language": "python",
   "name": "python3"
  },
  "language_info": {
   "codemirror_mode": {
    "name": "ipython",
    "version": 3
   },
   "file_extension": ".py",
   "mimetype": "text/x-python",
   "name": "python",
   "nbconvert_exporter": "python",
   "pygments_lexer": "ipython3",
   "version": "3.7.3"
  }
 },
 "nbformat": 4,
 "nbformat_minor": 2
}
