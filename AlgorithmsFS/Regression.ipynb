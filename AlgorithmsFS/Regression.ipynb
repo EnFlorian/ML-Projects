{
 "cells": [
  {
   "cell_type": "markdown",
   "metadata": {},
   "source": [
    "# Linear Regression\n",
    "\n",
    "- **Libraries:** sklearn, numpy\n",
    "- **Theorie/Algorithm:** https://seat.massey.ac.nz/personal/s.r.marsland/MLBook.html"
   ]
  },
  {
   "cell_type": "code",
   "execution_count": 53,
   "metadata": {},
   "outputs": [],
   "source": [
    "import numpy as np"
   ]
  },
  {
   "cell_type": "code",
   "execution_count": 70,
   "metadata": {},
   "outputs": [],
   "source": [
    "class LinearRegression:\n",
    "    def __init__(self, n_iterations, learning_rate=0.001, normalize=False, verbose=False):\n",
    "        self.iterations = n_iterations\n",
    "        self.learning_rate = learning_rate\n",
    "        self.normalize = normalize\n",
    "        self.verbose = verbose\n",
    "        \n",
    "        self.weights = None\n",
    "        self._normalize_mean = None\n",
    "        self._normalize_std = None\n",
    "        self.error_history = list()\n",
    "\n",
    "        \n",
    "    def fit(self, X, y):  \n",
    "        # Ensure data is float type\n",
    "        X = X.astype(np.float32)\n",
    "        y = y.astype(np.float32)\n",
    "        \n",
    "        if self.normalize:\n",
    "            self._normalize_mean = X.mean()\n",
    "            self._normalize_std = X.std()\n",
    "            X = self._normalize(X)\n",
    "            \n",
    "        # bias term\n",
    "        X = np.insert(X, 0, 1, axis=1)\n",
    "        self.weights = np.zeros((X.shape[1], 1))\n",
    "        \n",
    "        for i in range(self.iterations):\n",
    "            # Calculating gradient\n",
    "            pred = np.dot(X, self.weights)\n",
    "            gradient = (1 / len(X)) * (np.dot(X.T, pred - y))\n",
    "            # Updating weights\n",
    "            self.weights = self.weights - self.learning_rate * gradient\n",
    "            # Calculating current error\n",
    "            error = self._mse(X, y)\n",
    "            self.error_history.append(error)\n",
    "\n",
    "            # logging the current error\n",
    "            if self.verbose and i % 5000 == 0:\n",
    "                print(\"Iteration: \" + str(i) + \", Error: \" + str(error))\n",
    "    \n",
    "    def predict(self, X):\n",
    "        X = X.astype(np.float32)\n",
    "        if self.normalize:\n",
    "            X = self._normalize(X)\n",
    "        X = np.insert(X, 0, 1, axis=1)\n",
    "        pred = np.dot(X, self.weights)\n",
    "        return pred\n",
    "    \n",
    "    # Helper functions\n",
    "    def _normalize(self, X):\n",
    "        return (X - self._normalize_mean) / self._normalize_std\n",
    "        \n",
    "    def _mse(self, X, y):\n",
    "        pred = np.dot(X, self.weights)\n",
    "        mean_square_error = (1 / (2 * len(X))) * np.sum(np.square(pred - y))\n",
    "        return mean_square_error\n",
    "    "
   ]
  },
  {
   "cell_type": "markdown",
   "metadata": {},
   "source": [
    "### Generate Test Data"
   ]
  },
  {
   "cell_type": "code",
   "execution_count": 71,
   "metadata": {},
   "outputs": [
    {
     "data": {
      "image/png": "[encoded data removed]",
      "text/plain": [
       "<Figure size 432x288 with 1 Axes>"
      ]
     },
     "metadata": {
      "needs_background": "light"
     },
     "output_type": "display_data"
    }
   ],
   "source": [
    "# Import libraries\n",
    "from sklearn import datasets\n",
    "from matplotlib import pyplot as plt\n",
    "%matplotlib inline\n",
    " \n",
    "# Get regression data from sklearn\n",
    "X, y = datasets.make_regression(n_samples=50, n_features=1,  noise=10)\n",
    " \n",
    "# Vizualize the generated data\n",
    "plt.scatter(X, y)\n",
    "plt.xlabel(\"x-values\")\n",
    "plt.ylabel(\"y-values\")\n",
    "plt.show()"
   ]
  },
  {
   "cell_type": "markdown",
   "metadata": {},
   "source": [
    "### Linear Regression Example"
   ]
  },
  {
   "cell_type": "code",
   "execution_count": 72,
   "metadata": {},
   "outputs": [
    {
     "name": "stdout",
     "output_type": "stream",
     "text": [
      "Iteration: 0, Error: 194919.84360967777\n",
      "Iteration: 5000, Error: 8.805181533171863\n"
     ]
    }
   ],
   "source": [
    "# Creating and fitting the model\n",
    "lr_model = LinearRegression(8000, normalize=True, verbose=True)\n",
    "lr_model.fit(X, y)"
   ]
  },
  {
   "cell_type": "code",
   "execution_count": 73,
   "metadata": {},
   "outputs": [
    {
     "data": {
      "image/png": "[encoded data removed]",
      "text/plain": [
       "<Figure size 432x288 with 1 Axes>"
      ]
     },
     "metadata": {
      "needs_background": "light"
     },
     "output_type": "display_data"
    }
   ],
   "source": [
    "# Error Log\n",
    "plt.plot(lr_model.error_history)\n",
    "plt.title(\"Error Curve\")\n",
    "plt.xlabel('Iterations')\n",
    "plt.ylabel('Error')\n",
    "plt.show()"
   ]
  }
 ],
 "metadata": {
  "kernelspec": {
   "display_name": "Python 3",
   "language": "python",
   "name": "python3"
  },
  "language_info": {
   "codemirror_mode": {
    "name": "ipython",
    "version": 3
   },
   "file_extension": ".py",
   "mimetype": "text/x-python",
   "name": "python",
   "nbconvert_exporter": "python",
   "pygments_lexer": "ipython3",
   "version": "3.7.3"
  }
 },
 "nbformat": 4,
 "nbformat_minor": 2
}
