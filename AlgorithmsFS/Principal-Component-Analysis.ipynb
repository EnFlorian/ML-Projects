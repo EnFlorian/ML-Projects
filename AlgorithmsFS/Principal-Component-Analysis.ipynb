{
 "cells": [
  {
   "cell_type": "markdown",
   "metadata": {},
   "source": [
    "## Principal Component Analysis\n",
    "- **Goal:** Extract \"n\" Principal Components\n",
    "- **Libraries:** sklearn, numpy\n",
    "- **Data:** Digit Dataset\n",
    "- **Metric:** Correct matrix \n",
    "\n",
    "#### Disclaimer: This implementation isn't optimized in any way, therefore it shouldn't be used for production."
   ]
  },
  {
   "cell_type": "code",
   "execution_count": 110,
   "metadata": {},
   "outputs": [],
   "source": [
    "import numpy as np\n",
    "from sklearn import datasets\n",
    "from sklearn.model_selection import train_test_split"
   ]
  },
  {
   "cell_type": "code",
   "execution_count": 111,
   "metadata": {},
   "outputs": [],
   "source": [
    "class PCA:\n",
    "    def fit(self, X, n_components):\n",
    "        # Decompose matrix\n",
    "        return np.linalg.svd(X, full_matrices=True)\n",
    "    \n",
    "    def fit_transform(self, X, n_components=2):\n",
    "        # Decompose matrix\n",
    "        U, S, V = self.fit(X, n_components)\n",
    "        # Sort and reverse order \n",
    "        s_sorted_reversed = S.argsort()[::-1]\n",
    "        # Extract indicies \n",
    "        indicies = s_sorted_reversed[:n_components]\n",
    "        return X.dot(V[indicies].T)"
   ]
  },
  {
   "cell_type": "markdown",
   "metadata": {},
   "source": [
    "### Loading Data"
   ]
  },
  {
   "cell_type": "code",
   "execution_count": 112,
   "metadata": {},
   "outputs": [],
   "source": [
    "def load_data():\n",
    "    digits = datasets.load_digits()\n",
    "    X = digits.data \n",
    "    y = digits.target\n",
    "    return train_test_split(X, y, test_size=0.33, random_state=42)\n",
    "\n",
    "# Splitting data into trainings and test sets\n",
    "X_train, X_test, y_train, y_test = load_data()"
   ]
  },
  {
   "cell_type": "markdown",
   "metadata": {},
   "source": [
    "### Creating Model"
   ]
  },
  {
   "cell_type": "code",
   "execution_count": 113,
   "metadata": {},
   "outputs": [
    {
     "name": "stdout",
     "output_type": "stream",
     "text": [
      "------ 5 Principal Components------\n",
      "\n",
      " [[ 46.24104278 -10.51167234  16.9609893  -11.87530579   4.75584215]\n",
      " [ 58.8651787   13.81096855  -0.85293928  10.75333539  -3.86584426]\n",
      " [ 46.27149533  21.71843272  -3.6398134   -8.50892683   5.19127461]\n",
      " ...\n",
      " [ 46.26020127 -25.22014994  15.36917037   9.2694812    4.01744055]\n",
      " [ 49.83463271  25.30868611   1.63228485   5.32125574   3.97554289]\n",
      " [ 49.63862614   7.31028098  15.25410044   5.58173265  -8.2982519 ]]\n"
     ]
    }
   ],
   "source": [
    "pca = PCA()\n",
    "# Number of principal components to extract\n",
    "n_components = 5\n",
    "print(\"------\", n_components, \"Principal Components------\\n\\n\", \n",
    "      pca.fit_transform(X_test, 5))"
   ]
  }
 ],
 "metadata": {
  "kernelspec": {
   "display_name": "Python 3",
   "language": "python",
   "name": "python3"
  },
  "language_info": {
   "codemirror_mode": {
    "name": "ipython",
    "version": 3
   },
   "file_extension": ".py",
   "mimetype": "text/x-python",
   "name": "python",
   "nbconvert_exporter": "python",
   "pygments_lexer": "ipython3",
   "version": "3.7.3"
  }
 },
 "nbformat": 4,
 "nbformat_minor": 2
}
